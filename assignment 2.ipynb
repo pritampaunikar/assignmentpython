{
 "cells": [
  {
   "cell_type": "code",
   "execution_count": null,
   "id": "5d098b91",
   "metadata": {},
   "outputs": [],
   "source": [
    "1.What are the two values of the Boolean data type? How do you write them?\n",
    "\n",
    "There are two values of boolean data types\n",
    "1) True \n",
    "2) False\n",
    "You can evaluate any expression in Python, and get one of two answers, True or False.\n",
    "For example, 1==1 is True whereas 2<1 is False. "
   ]
  },
  {
   "cell_type": "code",
   "execution_count": null,
   "id": "2e463ed9",
   "metadata": {},
   "outputs": [],
   "source": [
    "2. What are the three different types of Boolean operators?\n",
    "\n",
    "1) AND : all condition should be satisfied. In python AND is a boolean operator used to combine multiple condition and return True, only if all the condtion are True\n",
    "2) OR  : It will be True. if any of given conditon satisfied.\n",
    "3) NOT : It perform as invertor operator.    "
   ]
  },
  {
   "cell_type": "markdown",
   "id": "90fe9996",
   "metadata": {},
   "source": [
    "3. Make a list of each Boolean operators truth tables (i.e. every possible combination of Boolean\n",
    "values for the operator and what it evaluate ).\n",
    "AND Operator :            OR Operator :                 NOT Operator :\n",
    "    INPUT     OUTPUT          INPUT    OUTPUT               INPUT   OUTPUT\n",
    "    A   B       Y             A   B      Y                    A       Y\n",
    "    0   0       0             0   0      0                    0       1\n",
    "    0   1       0             0   1      1                    1       0\n",
    "    1   0       0             1   0      1\n",
    "    1   1       1             1   1      1"
   ]
  },
  {
   "cell_type": "code",
   "execution_count": 23,
   "id": "95342b79",
   "metadata": {},
   "outputs": [
    {
     "name": "stdout",
     "output_type": "stream",
     "text": [
      "Object `expressions` not found.\n"
     ]
    },
    {
     "data": {
      "text/plain": [
       "True"
      ]
     },
     "execution_count": 23,
     "metadata": {},
     "output_type": "execute_result"
    }
   ],
   "source": [
    "4. What are the values of the following expressions?\n",
    "(5 > 4) and (3 == 5)                : False\n",
    "not (5 > 4)                         : False\n",
    "(5 > 4) or (3 == 5)                 : True\n",
    "not ((5 > 4) or (3 == 5))           : False\n",
    "(True and True) and (True == False) : False\n",
    "(not False) or (not True)           : True"
   ]
  },
  {
   "cell_type": "code",
   "execution_count": null,
   "id": "7f33a465",
   "metadata": {},
   "outputs": [],
   "source": [
    "5. What are the six comparison operators?\n",
    "\n",
    "Comparison operators are used to compare two values:\n",
    "\n",
    "Operator        Name                        Example\n",
    "==              Equal                        x == y\n",
    "!=              Not equal                    x != y\n",
    ">               Greater than                 x > y\n",
    "<               Less than                    x < y\n",
    ">=              Greater than or equal to     x >= y\n",
    "<=              Less than or equal to        x <= y"
   ]
  },
  {
   "cell_type": "code",
   "execution_count": null,
   "id": "fdd271bf",
   "metadata": {},
   "outputs": [],
   "source": [
    "#6. How do you tell the difference between the equal to and assignment operators?Describe a\n",
    "#condition and when you would use one.\n",
    "assignment operators : \n",
    "            The “=” is an assignment operator used to assign the value on the right to the variable on the left.\n",
    "            1) it is assignment operator\n",
    "            2) it is used to assigning valur to variable\n",
    "            3) constant term cannot be placed on left hand side. example: 1=x; is Invalid \n",
    "            For example:\n",
    "            a = 10;\n",
    "            b = 20;\n",
    "\n",
    "equal to operator :            \n",
    "         The ‘==’ operator checks whether the two given operands are equal or not. If so, it returns true. Otherwise it returns false. \n",
    "         1) it is relational or comparision operator.\n",
    "         2) it is used for comparing two values. it returns 1 if both the values are equal otherwise returns 0.\n",
    "         3) constant term can be placed on left hand side. example: 1==1 is valid and returns 1.\n",
    "        For example:\n",
    "        5==5\n",
    "\n",
    "        This will return true.\n",
    "    "
   ]
  },
  {
   "cell_type": "code",
   "execution_count": 16,
   "id": "9ffdddf5",
   "metadata": {},
   "outputs": [
    {
     "name": "stdout",
     "output_type": "stream",
     "text": [
      "enter the value of spam5\n",
      "spam\n"
     ]
    }
   ],
   "source": [
    "#7. Identify the three blocks in this code:\n",
    "#spam = 0\n",
    "#if spam == 10:\n",
    "#print(\"eggs\")\n",
    "#if spam > 5:\n",
    "#print(\"bacon\")\n",
    "#else:\n",
    "#print(\"spam\")\n",
    "spam=0\n",
    "spam = int(input(\"enter the value of spam\"))\n",
    "if spam == 10:\n",
    "    print(\"eggs\")\n",
    "elif spam > 5 :\n",
    "    print(\"bacon\")\n",
    "else:\n",
    "    print(\"spam\")"
   ]
  },
  {
   "cell_type": "code",
   "execution_count": null,
   "id": "c92ac5e5",
   "metadata": {},
   "outputs": [],
   "source": [
    "#8. Write code that prints Hello if 1 is stored in spam, prints Howdy if 2 is stored in spam, and prints\n",
    "#Greetings! if anything else is stored in spam.\n",
    "\n",
    "spam = int(input(\"enter the value of spam\"))\n",
    "if spam == 1:\n",
    "    print(\"Hello\")\n",
    "elif spam ==2:\n",
    "    print(\"Howdy\")\n",
    "else:\n",
    "    print(\"Greetings!\")"
   ]
  },
  {
   "cell_type": "markdown",
   "id": "fdb8c6f0",
   "metadata": {},
   "source": [
    "9.If your programme is stuck in an endless loop, what keys you’ll press?\n",
    "\n",
    "press CTRL + C \n",
    "otherwise, go to Kernal and press Interrupt ."
   ]
  },
  {
   "cell_type": "code",
   "execution_count": 12,
   "id": "ab1579ba",
   "metadata": {},
   "outputs": [
    {
     "name": "stdout",
     "output_type": "stream",
     "text": [
      "Object `continue` not found.\n"
     ]
    }
   ],
   "source": [
    "10. How can you tell the difference between break and continue?\n",
    "\n",
    "The main difference between both the statements is that when break keyword comes, it terminates the execution of the current loop and passes the control over the next loop or main body,\n",
    "whereas when continue keyword is encountered, it skips the current iteration and executes the very next iteration in the loop.\n",
    "\n",
    "Example 1:\n",
    "The example given below will give a better understanding of the break statement in Python.\n",
    "\n",
    "for char in \"Aditya\":\n",
    "    if char == \"t\":\n",
    "        break\n",
    "    print(char)\n",
    "\n",
    "print(\"Over\")\n",
    "\n",
    "Output\n",
    "\n",
    "A\n",
    "d\n",
    "i\n",
    "Over \n",
    "\n",
    "Example 2:\n",
    "The example given below will give a better understanding of the continue statement in Python.\n",
    "\n",
    "for char in \"Aditya\":\n",
    "    if char == \"t\":\n",
    "        continue\n",
    "    print(char)\n",
    "\n",
    "print(\"Over\")\n",
    "\n",
    "Output\n",
    "\n",
    "A\n",
    "d\n",
    "i\n",
    "y\n",
    "a\n",
    "Over"
   ]
  },
  {
   "cell_type": "code",
   "execution_count": null,
   "id": "4ef6304c",
   "metadata": {},
   "outputs": [],
   "source": [
    "11. In a for loop, what is the difference between range(10), range(0, 10), and range(0, 10, 1)?\n",
    "\n",
    "range(start, stop, step)\n",
    "\n",
    "Parameters:\n",
    "start: (Optional) An integer to start counting from, defaults to 0.\n",
    "stop: An integer to stop the count at.\n",
    "step: (Optional) An integer that indicates the incremental value from start parameter value, defaults to 1. \n",
    "    \n",
    "range(10): an integer to stop the count at 10\n",
    "range(0,10): an interger to start counting from 0 and stop at the count at 9\n",
    "range(0,10,1): an interger to start counting from 0 then increment value from start i.e 0 and stop at count 9"
   ]
  },
  {
   "cell_type": "code",
   "execution_count": 18,
   "id": "453c6733",
   "metadata": {},
   "outputs": [
    {
     "name": "stdout",
     "output_type": "stream",
     "text": [
      "1\n",
      "2\n",
      "3\n",
      "4\n",
      "5\n",
      "6\n",
      "7\n",
      "8\n",
      "9\n",
      "10\n"
     ]
    }
   ],
   "source": [
    "#12. Write a short program that prints the numbers 1 to 10 using a for loop. Then write an equivalent\n",
    "#program that prints the numbers 1 to 10 using a while loop.\n",
    "\n",
    "for i in range(1,11):\n",
    "    print(i)"
   ]
  },
  {
   "cell_type": "code",
   "execution_count": 21,
   "id": "8f4f8f82",
   "metadata": {},
   "outputs": [
    {
     "name": "stdout",
     "output_type": "stream",
     "text": [
      "1\n",
      "2\n",
      "3\n",
      "4\n",
      "5\n",
      "6\n",
      "7\n",
      "8\n",
      "9\n",
      "10\n"
     ]
    }
   ],
   "source": [
    "#12. Write a short program that prints the numbers 1 to 10 using a for loop. Then write an equivalent\n",
    "#program that prints the numbers 1 to 10 using a while loop.\n",
    "\n",
    "a=1\n",
    "while a<=10:\n",
    "    print(a)\n",
    "    a=a+1"
   ]
  },
  {
   "cell_type": "code",
   "execution_count": null,
   "id": "c3bb75d6",
   "metadata": {},
   "outputs": [],
   "source": [
    "13. If you had a function named bacon() inside a module named spam, how would you call it after\n",
    "importing spam?\n",
    "\n",
    "spam.bacon()"
   ]
  }
 ],
 "metadata": {
  "kernelspec": {
   "display_name": "Python 3 (ipykernel)",
   "language": "python",
   "name": "python3"
  },
  "language_info": {
   "codemirror_mode": {
    "name": "ipython",
    "version": 3
   },
   "file_extension": ".py",
   "mimetype": "text/x-python",
   "name": "python",
   "nbconvert_exporter": "python",
   "pygments_lexer": "ipython3",
   "version": "3.9.12"
  }
 },
 "nbformat": 4,
 "nbformat_minor": 5
}
