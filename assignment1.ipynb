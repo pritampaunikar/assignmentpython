{
 "cells": [
  {
   "cell_type": "code",
   "execution_count": 1,
   "id": "49a6c153",
   "metadata": {},
   "outputs": [
    {
     "name": "stdout",
     "output_type": "stream",
     "text": [
      "Object `Python` not found.\n",
      "hello python\n"
     ]
    }
   ],
   "source": [
    "1. Write a Python program to print Hello Python?\n",
    "\n",
    "print(\"hello python\")"
   ]
  },
  {
   "cell_type": "code",
   "execution_count": 13,
   "id": "2677c926",
   "metadata": {},
   "outputs": [
    {
     "name": "stdout",
     "output_type": "stream",
     "text": [
      "Object `division` not found.\n"
     ]
    }
   ],
   "source": [
    "2. write a program to do arithmatical operation addition and division?\n",
    "def test1(a,b):\n",
    "    return a+b,a/b"
   ]
  },
  {
   "cell_type": "code",
   "execution_count": 12,
   "id": "de21a56e",
   "metadata": {},
   "outputs": [
    {
     "data": {
      "text/plain": [
       "(9, 0.8)"
      ]
     },
     "execution_count": 12,
     "metadata": {},
     "output_type": "execute_result"
    }
   ],
   "source": [
    "test1(4,5)"
   ]
  },
  {
   "cell_type": "code",
   "execution_count": 81,
   "id": "db460d61",
   "metadata": {},
   "outputs": [
    {
     "name": "stdout",
     "output_type": "stream",
     "text": [
      "Object `triangle` not found.\n"
     ]
    }
   ],
   "source": [
    "3. Write a Python program to find the area of a triangle?\n",
    "\n",
    "def test2(a,b,c):\n",
    "    s=(a+b+c)/2\n",
    "    return ((s*(s-a)*(s-b)*(s-c))**0.5)"
   ]
  },
  {
   "cell_type": "code",
   "execution_count": 82,
   "id": "ad4c82a9",
   "metadata": {},
   "outputs": [
    {
     "data": {
      "text/plain": [
       "(2.2962127484012872e-14+375j)"
      ]
     },
     "execution_count": 82,
     "metadata": {},
     "output_type": "execute_result"
    }
   ],
   "source": [
    "test2(20,20,50)"
   ]
  },
  {
   "cell_type": "code",
   "execution_count": 49,
   "id": "de060499",
   "metadata": {},
   "outputs": [
    {
     "name": "stdout",
     "output_type": "stream",
     "text": [
      "Object `variables` not found.\n",
      "10\n",
      "20\n",
      "value after swapping 20\n",
      "value after swapping 10\n"
     ]
    }
   ],
   "source": [
    "4. Write a Python program to swap two variables?\n",
    "a=input()\n",
    "b=input()\n",
    "\"\"\"create a temporary variable and swap the value\"\"\"\n",
    "temp=a\n",
    "a=b\n",
    "b=temp\n",
    "print(\"value after swapping\",a)\n",
    "print(\"value after swapping\",b)\n"
   ]
  },
  {
   "cell_type": "code",
   "execution_count": 56,
   "id": "a1d412a8",
   "metadata": {},
   "outputs": [
    {
     "name": "stdout",
     "output_type": "stream",
     "text": [
      "Object `number` not found.\n",
      "8\n"
     ]
    }
   ],
   "source": [
    "5. Write a Python program to generate a random number?\n",
    "import random\n",
    "x=random.randint(0,50)\n",
    "print(x)"
   ]
  },
  {
   "cell_type": "code",
   "execution_count": null,
   "id": "88c44045",
   "metadata": {},
   "outputs": [],
   "source": []
  }
 ],
 "metadata": {
  "kernelspec": {
   "display_name": "Python 3 (ipykernel)",
   "language": "python",
   "name": "python3"
  },
  "language_info": {
   "codemirror_mode": {
    "name": "ipython",
    "version": 3
   },
   "file_extension": ".py",
   "mimetype": "text/x-python",
   "name": "python",
   "nbconvert_exporter": "python",
   "pygments_lexer": "ipython3",
   "version": "3.9.12"
  }
 },
 "nbformat": 4,
 "nbformat_minor": 5
}
